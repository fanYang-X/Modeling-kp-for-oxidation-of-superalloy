{
 "cells": [
  {
   "cell_type": "code",
   "execution_count": 1,
   "metadata": {},
   "outputs": [],
   "source": [
    "import numpy as np\n",
    "import pandas as pd\n",
    "import matplotlib.pylab as plt\n",
    "from sklearn.preprocessing import StandardScaler\n",
    "from sklearn.model_selection import GroupKFold\n",
    "from sklearn.ensemble import RandomForestRegressor\n",
    "import warnings\n",
    "warnings.filterwarnings('ignore')\n",
    "\n",
    "plt.rc('font', family='Times New Roman', size=7.5, weight='bold')\n",
    "font = {'family': 'Times New Roman', 'weight': 'bold', 'size': 7.5}"
   ]
  },
  {
   "cell_type": "code",
   "execution_count": 2,
   "metadata": {},
   "outputs": [],
   "source": [
    "atom_mass = {'Ni': 58.69, 'Al': 26.98, 'Co': 58.93, 'Cr': 52, 'Mo': 95.95, 'Re': 186.2, 'Ru': 101.07,\n",
    "             'Ti': 47.87, 'Ta': 180.94, 'W':  183.84, 'Hf': 178.49, 'Nb': 92.90, 'Si': 28.085, 'C': 12,\n",
    "             'Y': 88.90, 'Ce': 140.12, 'B': 10.81}\n",
    "\n",
    "CE = {'Ni':4.435, 'Al':3.389, 'Co':4.394, 'Cr':4.094, 'Mo':6.819, 'Re':8.03, 'Ru':6.74, 'Ti':4.85, 'Ta':8.105, \n",
    "      'W':8.903, 'Hf':6.436, 'Nb':7.566, 'Si':4.63, 'C':7.37, 'Y':4.37, 'Ce':4.32, 'B':5.77}\n",
    "\n",
    "PE = {'Ni':1.91, 'Al':1.61, 'Co':1.88, 'Cr':1.66, 'Mo':2.16, 'Re':1.9, 'Ru':2.2, 'Ti':1.54, 'Ta':1.5, \n",
    "      'W':2.36, 'Hf':1.3, 'Nb':1.6, 'Si':1.9, 'C':2.55, 'Y':1.22, 'Ce':1.12, 'B':2.04}\n",
    "\n",
    "IE = {'Ni':737.1, 'Al':577.5, 'Co':760.4, 'Cr':652.9, 'Mo':684.3, 'Re':760, 'Ru':710.2, 'Ti':658.8, 'Ta':761, \n",
    "      'W':770, 'Hf':658.5, 'Nb':652.1, 'Si':786.5, 'C':1086.5, 'Y':600, 'Ce':534.4, 'B':800.6}\n",
    "\n",
    "VE = {'Ni':1.41, 'Al':0.76, 'Co':1.25, 'Cr':1.8, 'Mo':2.67, 'Re':2.37, 'Ru':1.91, 'Ti':1.56, 'Ta':2.88, \n",
    "      'W':3.22, 'Hf':1.87, 'Nb':2.4, 'Si':0, 'C':0, 'Y':1.19, 'Ce':1.27, 'B':0}\n",
    "\n",
    "atom_radius = {'Ni': 0.149, 'Al': 0.118, 'Co': 0.152, 'Cr': 0.166, 'Mo': 0.19, 'Re': 0.188, 'Ru': 0.178, 'Ti': 0.176,\n",
    "               'Ta': 0.2, 'W': 0.193, 'Hf': 0.208, 'Nb': 0.198,\n",
    "               'Si': 0.111, 'C': 0.067, 'Y': 0.212, 'Ce': 0.185, 'B': 0.087}\n",
    "\n",
    "ion_radius = {'Ni': 72, 'Al': 50, 'Co': 74, 'Cr': 69, 'Mo': 62, 'Re': 63, 'Ru': 81, 'Ti': 68,\n",
    "              'Ta': 69, 'W': 62, 'Hf': 79, 'Nb': 70, 'Si': 42, 'C': 16, 'Y': 90, 'Ce': 92, 'B': 20}\n",
    "\n",
    "ion_valence = {'Ni': 2, 'Al': 3, 'Co': 3, 'Cr': 3, 'Mo': 6, 'Re': 5, 'Ru': 4, 'Ti': 4, 'Ta': 5, 'W': 6, \n",
    "               'Hf':4, 'Nb':5, 'Si':4, 'C':4, 'Y':3, 'Ce':4, 'B':3}\n",
    "\n",
    "e_a_con = {'Ni': 1.16, 'Al': 3.01, 'Co': 1.03, 'Cr': 0.92, 'Mo': 1.39, 'Re': 1.4, 'Ru': 1.04, 'Ti': 1.14,\n",
    "           'Ta': 1.57, 'W': 1.43, 'Hf':1.76, 'Nb':1.32, 'Si':4, 'C':3.92, 'Y':3.15, 'B':2.98}\n",
    "\n",
    "D0_Ni = {'Ni':1.9e-4, 'Al': 1.85e-4, 'Co':7.5e-5, 'Cr':3e-6, 'Mo':1.15e-4, 'Re':8.2e-7, \n",
    "         'Ru':2.48e-4, 'Ti':4.1e-4, 'Ta':0.031e-4, 'W':8e-6, 'Nb': 0.595e-4}\n",
    "\n",
    "q_Ni = {'Ni': -287, 'Al': -284, 'Co': -284.169, 'Cr': -287, 'Mo': -267.585, 'Re': -278.817,\n",
    "        'Ru': -304.489, 'Ti': -256.9, 'Ta': -267.729, 'W': -282.13, 'Hf': -251.956, 'Nb': -230}\n",
    "\n",
    "D0_Ni3Al = {'Ni':1e-4, 'Al': 6.6e-8, 'Co':4.2e-3, 'Cr':1.1e-1, 'Mo':2.3e2, 'Re':1.5, \n",
    "            'Ru':1.3e-3, 'Ti':56, 'Ta':7.16, 'Nb': 26}\n",
    "\n",
    "q_Ni3Al = {'Ni': -303, 'Al': -258, 'Co': -325, 'Cr': -366, 'Mo': -493,\n",
    "           'Re': -467.5, 'Ru': -318.7, 'Ti': -468, 'Ta': -425, 'Nb': -475.6}"
   ]
  },
  {
   "cell_type": "code",
   "execution_count": 3,
   "metadata": {},
   "outputs": [],
   "source": [
    "path = '.../Al2O3_tc_data.csv'"
   ]
  },
  {
   "cell_type": "code",
   "execution_count": 4,
   "metadata": {},
   "outputs": [],
   "source": [
    "# composition\n",
    "composition_features = ['Ni', 'Al', 'Co', 'Cr', 'Mo', 'Re', 'Ru', 'Ti', 'Ta', 'W',\n",
    "                        'Hf', 'Nb', 'Si', 'C', 'Y', 'Ce', 'B']\n",
    "# activity\n",
    "a_features = ['Ni_a', 'Al_a', 'Cr_a']\n",
    "# elemental properties\n",
    "properties_dict = {'CE': CE, 'PE': PE, 'IE': IE, 'VE': VE, 'a_r': atom_radius, 'i_r': ion_radius,\n",
    "                   'ion_v': ion_valence, 'e_a_con': e_a_con}"
   ]
  },
  {
   "cell_type": "code",
   "execution_count": 5,
   "metadata": {},
   "outputs": [],
   "source": [
    "param_dict = {'RF': {'n_estimators': 492, 'max_features': 1,\n",
    "                               'max_depth': 9, 'random_state': 2022}}"
   ]
  },
  {
   "cell_type": "code",
   "execution_count": 6,
   "metadata": {},
   "outputs": [],
   "source": [
    "class FeatureEngineer:\n",
    "    def __init__(self, properties_dict, data):\n",
    "        self.properties_dict = properties_dict\n",
    "        self.data = data\n",
    "\n",
    "    def mean_calc(self, p_dict):\n",
    "        calc_num = np.zeros(len(self.data))\n",
    "        for atom in p_dict.keys():\n",
    "            calc_num += self.data.loc[:, atom].values * p_dict[atom]\n",
    "        return calc_num\n",
    "\n",
    "    def diff_calc(self, p_dict):\n",
    "        calc_num = np.zeros(len(self.data))\n",
    "        for atom in p_dict.keys():\n",
    "            calc_num += self.data[atom].values * (p_dict['Ni'] - p_dict[atom]) ** 2\n",
    "        return np.sqrt(calc_num)\n",
    "\n",
    "    def get_feature(self):\n",
    "        feature_df = pd.DataFrame()\n",
    "        for p_name, p_dict in self.properties_dict.items():\n",
    "            feature_df[p_name + '_avg'] = self.mean_calc(p_dict)\n",
    "            feature_df[p_name + '_var'] = self.diff_calc(p_dict)\n",
    "        return feature_df"
   ]
  },
  {
   "cell_type": "code",
   "execution_count": 7,
   "metadata": {},
   "outputs": [],
   "source": [
    "def wt_to_at(data, atom_features):\n",
    "    wt_value = data[atom_features].values\n",
    "    at_value = wt_value / np.array([atom_mass[j] for j in atom_features])\n",
    "    sum_num = np.sum(at_value, axis=1).reshape(-1, 1)\n",
    "    at_value = at_value / sum_num\n",
    "    for index, i in enumerate(atom_features):\n",
    "        data.loc[:, i] = at_value[:, index]\n",
    "    return data\n",
    "\n",
    "def G_al2o3(T, al_a):\n",
    "    G0 = 0.2193*(T + 273.15) - 1127.3137\n",
    "    R = 8.314\n",
    "    p = 0.2\n",
    "    return G0 + (R*(T + 273.15)*np.log(1 / al_a**(4/3) / p)) / 1000\n",
    "\n",
    "def Val_eff(data, c=False):\n",
    "    val_eff_num = 0\n",
    "    for i in ion_valence.keys():\n",
    "        if not c:\n",
    "            val_eff_num += (ion_valence[i] - 3)*data[i]\n",
    "        elif c == 'A1':\n",
    "            if i in ['Ni', 'Al', 'Co', 'Cr', 'Mo', 'Re', 'Ru', 'Ti', 'Ta', 'W', 'Hf']: \n",
    "                val_eff_num += (ion_valence[i] - 3)*data[i + '_A1']\n",
    "        elif c == 'L12':\n",
    "            if i in ['Ni', 'Al', 'Co', 'Cr', 'Mo', 'Re', 'Ru', 'Ti', 'Ta', 'W', 'Hf']: \n",
    "                val_eff_num += (ion_valence[i] - 3)*data[i + '_L12']\n",
    "    return val_eff_num\n",
    "\n",
    "def Ni_diffusion(data):\n",
    "    D0_eff = 0\n",
    "    elem = ['Ni', 'Al', 'Co', 'Cr', 'Mo', 'Re', 'Ru', 'Ti', 'Ta', 'W']\n",
    "    for atom in elem:\n",
    "        D0_eff += D0_Ni[atom] * data[atom + '_A1']\n",
    "    Q_eff = q_Ni['Ni']\n",
    "    for atom in elem[1: ]:\n",
    "        Q_eff += q_Ni[atom] * data[atom + '_A1']\n",
    "    D_eff = D0_eff*np.exp(Q_eff*1000 / 8.314 / (data['Temperature'] + 273.15))\n",
    "    return D_eff\n",
    "\n",
    "def Ni3Al_diffusion(data):\n",
    "    D0_eff = 0\n",
    "    elem = ['Ni', 'Al', 'Co', 'Cr', 'Mo', 'Re', 'Ru', 'Ti', 'Ta']\n",
    "    for atom in elem:\n",
    "        D0_eff += D0_Ni3Al[atom] * data[atom + '_L12']\n",
    "    Q_eff = 0\n",
    "    for atom in elem:\n",
    "        Q_eff += q_Ni3Al[atom] * data[atom + '_L12']\n",
    "    D_eff = D0_eff*np.exp(Q_eff*1000 / 8.314 / (data['Temperature'] + 273.15))\n",
    "    return D_eff"
   ]
  },
  {
   "cell_type": "code",
   "execution_count": 8,
   "metadata": {},
   "outputs": [],
   "source": [
    "def computeCorrelation(X, Y):\n",
    "    xBar = np.mean(X)\n",
    "    yBar = np.mean(Y)\n",
    "    SSR = 0\n",
    "    varX = 0\n",
    "    varY = 0\n",
    "    for i in range(0 , len(X)):\n",
    "        diffXXBar = X[i] - xBar\n",
    "        diffYYBar = Y[i] - yBar\n",
    "        SSR += (diffXXBar * diffYYBar)\n",
    "        varX +=  diffXXBar**2\n",
    "        varY += diffYYBar**2\n",
    "    \n",
    "    SST = np.sqrt(varX * varY)\n",
    "    return SSR / SST"
   ]
  },
  {
   "cell_type": "code",
   "execution_count": 9,
   "metadata": {},
   "outputs": [],
   "source": [
    "data = pd.read_csv(path, encoding='gb2312')            \n",
    "data['index'] = range(len(data))\n",
    "data['group'] = data.groupby(composition_features)['index'].transform('max')\n",
    "groups = data['group']\n",
    "data.drop(['index', 'group'], axis=1, inplace=True)"
   ]
  },
  {
   "cell_type": "code",
   "execution_count": 10,
   "metadata": {},
   "outputs": [],
   "source": [
    "features = ['Temperature'] + a_features\n",
    "a_data = data[features]\n",
    "composition_num = len(set(groups))\n",
    "kp_label = np.log(data['k(g2/m4/h)'])\n",
    "gkf = GroupKFold(n_splits=composition_num)"
   ]
  },
  {
   "cell_type": "code",
   "execution_count": 11,
   "metadata": {},
   "outputs": [],
   "source": [
    "# transfer wt. to at.\n",
    "data = wt_to_at(data, composition_features)\n",
    "# cbcv features\n",
    "FE = FeatureEngineer(properties_dict, data)\n",
    "cbfv_features = FE.get_feature()\n",
    "for i in cbfv_features.columns:\n",
    "    a_data[i] = cbfv_features[i]"
   ]
  },
  {
   "cell_type": "code",
   "execution_count": 12,
   "metadata": {},
   "outputs": [],
   "source": [
    "# domain features\n",
    "a_data['Val_eff_c'] = Val_eff(data)\n",
    "a_data['Val_eff_γ'] = Val_eff(data, c='A1')\n",
    "a_data[\"Val_eff_γ'\"] = Val_eff(data, c='L12')\n",
    "a_data['D_Ni'] = Ni_diffusion(data)\n",
    "a_data['D_Ni3Al'] = Ni3Al_diffusion(data)"
   ]
  },
  {
   "attachments": {},
   "cell_type": "markdown",
   "metadata": {},
   "source": [
    "## baseline model\n",
    "### features: Temperature and the activity of Ni, Al, Cr\n",
    "### model: RF CB-CV "
   ]
  },
  {
   "cell_type": "code",
   "execution_count": 13,
   "metadata": {},
   "outputs": [
    {
     "data": {
      "image/png": "[encoded data removed]",
      "text/plain": [
       "<Figure size 252x252 with 1 Axes>"
      ]
     },
     "metadata": {
      "needs_background": "light"
     },
     "output_type": "display_data"
    }
   ],
   "source": [
    "f = ['Temperature'] + ['Ni_a', 'Al_a', 'Cr_a']\n",
    "a_data_f = a_data[f]\n",
    "test_list = []\n",
    "pre_list = []\n",
    "feature_importance = np.zeros((len(a_data_f.columns), composition_num))\n",
    "for fold, (train_id, test_id) in enumerate(gkf.split(a_data_f, kp_label, groups=groups)):\n",
    "    train = a_data_f.values[train_id]\n",
    "    test = a_data_f.values[test_id]\n",
    "    scalar = StandardScaler()\n",
    "    train = scalar.fit_transform(train)\n",
    "    test = scalar.transform(test)\n",
    "    train_label = kp_label[train_id]\n",
    "    test_label = kp_label[test_id]\n",
    "    test_list.append(test_label)\n",
    "    rf = RandomForestRegressor(**param_dict['RF'])\n",
    "    rf.fit(train, train_label)\n",
    "    train_pre = rf.predict(train)\n",
    "    test_pre = rf.predict(test)\n",
    "    feature_importance[:, fold] = rf.feature_importances_\n",
    "    pre_list.append(test_pre)\n",
    "plt.figure(figsize=(3.5, 3.5))\n",
    "plt.grid(linestyle='--', alpha=0.5, zorder=0)\n",
    "plt.plot(range(0, 21000, 1), range(0, 21000, 1), '--', c='gray')\n",
    "plt.loglog(np.exp(np.concatenate(pre_list, axis=0)), np.exp(np.concatenate(test_list, axis=0)), \n",
    "           '.', marker='o', color='lightskyblue', markeredgecolor='royalblue', label='RF - CBCV', zorder=2)\n",
    "plt.xlim(10**(-4), 500)\n",
    "plt.ylim(10**(-4), 500)\n",
    "plt.xlabel('Predicted $\\mathregular{K_p}$( $\\mathregular{g^2}$/$\\mathregular{m^4}$/h )', {'family': 'Times New Roman', 'weight': 'bold', 'size': 9})\n",
    "plt.ylabel('Experimental $\\mathregular{K_p}$( $\\mathregular{g^2}$/$\\mathregular{m^4}$/h )', {'family': 'Times New Roman', 'weight': 'bold', 'size': 9})\n",
    "plt.text(0.0015, 50, s='R: {:.3f}'.format(computeCorrelation(np.concatenate(test_list, axis=0), np.concatenate(pre_list, axis=0))), fontdict={'family': 'Times New Roman', 'weight': 'bold', 'size': 9})\n",
    "plt.legend(frameon=False, prop={'family': 'Times New Roman', 'weight': 'bold', 'size': 9})\n",
    "'''plt.axes([0.66, 0.18, 0.20, 0.20])\n",
    "sns.histplot(np.concatenate(test_list, axis=0) - np.concatenate(pre_list, axis=0), bins=10, kde=True, color='royalblue', alpha=0.7)\n",
    "plt.ylabel('Count', fontdict={'family': 'times new roman', 'size': 6, 'weight': 'bold'})\n",
    "plt.xticks([-3, 0, 3], font={'family': 'times new roman', 'size': 6, 'weight': 'bold'})\n",
    "plt.yticks([0, 5, 10, 15], font={'family': 'times new roman', 'size': 6, 'weight': 'bold'})'''\n",
    "plt.show()"
   ]
  },
  {
   "attachments": {},
   "cell_type": "markdown",
   "metadata": {},
   "source": [
    "### Add Composition-based Feature vector (CBFV features)"
   ]
  },
  {
   "cell_type": "code",
   "execution_count": 14,
   "metadata": {},
   "outputs": [
    {
     "data": {
      "image/png": "[encoded data removed]",
      "text/plain": [
       "<Figure size 252x252 with 1 Axes>"
      ]
     },
     "metadata": {
      "needs_background": "light"
     },
     "output_type": "display_data"
    }
   ],
   "source": [
    "f = ['Temperature'] + ['Ni_a', 'Al_a', 'Cr_a'] + ['CE_var', \"Val_eff_γ'\", 'i_r_avg', 'PE_avg', 'e_a_con_avg']\n",
    "a_data_f = a_data[f]\n",
    "test_list = []\n",
    "pre_list = []\n",
    "feature_importance = np.zeros((len(a_data_f.columns), composition_num))\n",
    "for fold, (train_id, test_id) in enumerate(gkf.split(a_data_f, kp_label, groups=groups)):\n",
    "    train = a_data_f.values[train_id]\n",
    "    test = a_data_f.values[test_id]\n",
    "    scalar = StandardScaler()\n",
    "    train = scalar.fit_transform(train)\n",
    "    test = scalar.transform(test)\n",
    "    train_label = kp_label[train_id]\n",
    "    test_label = kp_label[test_id]\n",
    "    test_list.append(test_label)\n",
    "    rf = RandomForestRegressor(**param_dict['RF'])\n",
    "    rf.fit(train, train_label)\n",
    "    train_pre = rf.predict(train)\n",
    "    test_pre = rf.predict(test)\n",
    "    feature_importance[:, fold] = rf.feature_importances_\n",
    "    pre_list.append(test_pre)\n",
    "plt.figure(figsize=(3.5, 3.5))\n",
    "plt.grid(linestyle='--', alpha=0.5, zorder=0)\n",
    "plt.plot(range(-1, 21000, 1), range(-1, 21000, 1), '--', c='gray')\n",
    "plt.loglog(np.exp(np.concatenate(pre_list, axis=0)), np.exp(np.concatenate(test_list, axis=0)), \n",
    "           '.', marker='o', color='lightskyblue', markeredgecolor='royalblue', label='RF (+ CBFV) - CBCV', zorder=2)\n",
    "plt.xlim(10**(-4), 500)\n",
    "plt.ylim(10**(-4), 500)\n",
    "plt.xlabel('Predicted $\\mathregular{K_p}$( $\\mathregular{g^2}$/$\\mathregular{m^4}$/h )', {'family': 'Times New Roman', 'weight': 'bold', 'size': 9})\n",
    "plt.ylabel('Experimental $\\mathregular{K_p}$( $\\mathregular{g^2}$/$\\mathregular{m^4}$/h )', {'family': 'Times New Roman', 'weight': 'bold', 'size': 9})\n",
    "plt.text(0.0015, 50, s='R: {:.3f}'.format(computeCorrelation(np.concatenate(test_list, axis=0), np.concatenate(pre_list, axis=0))), fontdict={'family': 'Times New Roman', 'weight': 'bold', 'size': 9})\n",
    "plt.legend(frameon=False, prop={'family': 'Times New Roman', 'weight': 'bold', 'size': 9})\n",
    "plt.show()"
   ]
  }
 ],
 "metadata": {
  "kernelspec": {
   "display_name": "Python 3",
   "language": "python",
   "name": "python3"
  },
  "language_info": {
   "codemirror_mode": {
    "name": "ipython",
    "version": 3
   },
   "file_extension": ".py",
   "mimetype": "text/x-python",
   "name": "python",
   "nbconvert_exporter": "python",
   "pygments_lexer": "ipython3",
   "version": "3.9.1"
  },
  "orig_nbformat": 4
 },
 "nbformat": 4,
 "nbformat_minor": 2
}

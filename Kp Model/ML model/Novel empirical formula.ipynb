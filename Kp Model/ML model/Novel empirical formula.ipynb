{
 "cells": [
  {
   "cell_type": "code",
   "execution_count": 1,
   "metadata": {},
   "outputs": [],
   "source": [
    "import numpy as np\n",
    "import pandas as pd\n",
    "import matplotlib.pylab as plt\n",
    "import seaborn as sns\n",
    "from sklearn.preprocessing import StandardScaler\n",
    "from sklearn.model_selection import GroupKFold\n",
    "from sklearn.metrics import r2_score, mean_squared_error, mean_absolute_error, accuracy_score, confusion_matrix\n",
    "from sklearn.linear_model import LinearRegression\n",
    "import lightgbm as lgb\n",
    "import warnings\n",
    "warnings.filterwarnings('ignore')\n",
    "plt.rc('font', family='Times New Roman', size=7.5, weight='bold')\n",
    "font = {'family': 'Times New Roman', 'weight': 'bold', 'size': 7.5}"
   ]
  },
  {
   "attachments": {},
   "cell_type": "markdown",
   "metadata": {},
   "source": [
    "## Feature Engneering"
   ]
  },
  {
   "cell_type": "code",
   "execution_count": 2,
   "metadata": {},
   "outputs": [],
   "source": [
    "# 摩尔质量\n",
    "atom_mass = {'Ni': 58.69, 'Al': 26.98, 'Co': 58.93, 'Cr': 52, 'Mo': 95.95, 'Re': 186.2, 'Ru': 101.07,\n",
    "             'Ti': 47.87, 'Ta': 180.94, 'W':  183.84, 'Hf': 178.49, 'Nb': 92.90, 'Si': 28.085, 'C': 12,\n",
    "             'Y': 88.90, 'Ce': 140.12, 'B': 10.81}\n",
    "# 内聚能\n",
    "CE = {'Ni':4.435, 'Al':3.389, 'Co':4.394, 'Cr':4.094, 'Mo':6.819, 'Re':8.03, 'Ru':6.74, 'Ti':4.85, 'Ta':8.105, \n",
    "      'W':8.903, 'Hf':6.436, 'Nb':7.566, 'Si':4.63, 'C':7.37, 'Y':4.37, 'Ce':4.32, 'B':5.77}\n",
    "# 电负性\n",
    "PE = {'Ni':1.91, 'Al':1.61, 'Co':1.88, 'Cr':1.66, 'Mo':2.16, 'Re':1.9, 'Ru':2.2, 'Ti':1.54, 'Ta':1.5, \n",
    "      'W':2.36, 'Hf':1.3, 'Nb':1.6, 'Si':1.9, 'C':2.55, 'Y':1.22, 'Ce':1.12, 'B':2.04}\n",
    "# 电离能\n",
    "IE = {'Ni':737.1, 'Al':577.5, 'Co':760.4, 'Cr':652.9, 'Mo':684.3, 'Re':760, 'Ru':710.2, 'Ti':658.8, 'Ta':761, \n",
    "      'W':770, 'Hf':658.5, 'Nb':652.1, 'Si':786.5, 'C':1086.5, 'Y':600, 'Ce':534.4, 'B':800.6}\n",
    "# 空位形成能\n",
    "VE = {'Ni':1.41, 'Al':0.76, 'Co':1.25, 'Cr':1.8, 'Mo':2.67, 'Re':2.37, 'Ru':1.91, 'Ti':1.56, 'Ta':2.88, \n",
    "      'W':3.22, 'Hf':1.87, 'Nb':2.4, 'Si':0, 'C':0, 'Y':1.19, 'Ce':1.27, 'B':0}\n",
    "# 原子半径\n",
    "atom_radius = {'Ni': 0.149, 'Al': 0.118, 'Co': 0.152, 'Cr': 0.166, 'Mo': 0.19, 'Re': 0.188, 'Ru': 0.178, 'Ti': 0.176,\n",
    "               'Ta': 0.2, 'W': 0.193, 'Hf': 0.208, 'Nb': 0.198,\n",
    "               'Si': 0.111, 'C': 0.067, 'Y': 0.212, 'Ce': 0.185, 'B': 0.087}\n",
    "# 离子半径\n",
    "ion_radius = {'Ni': 72, 'Al': 50, 'Co': 74, 'Cr': 69, 'Mo': 62, 'Re': 63, 'Ru': 81, 'Ti': 68,\n",
    "              'Ta': 69, 'W': 62, 'Hf': 79, 'Nb': 70, 'Si': 42, 'C': 16, 'Y': 90, 'Ce': 92, 'B': 20}\n",
    "# 元素价态\n",
    "ion_valence = {'Ni': 2, 'Al': 3, 'Co': 3, 'Cr': 3, 'Mo': 6, 'Re': 5, 'Ru': 4, 'Ti': 4, 'Ta': 5, 'W': 6, \n",
    "               'Hf':4, 'Nb':5, 'Si':4, 'C':4, 'Y':3, 'Ce':4, 'B':3}\n",
    "# e/a\n",
    "e_a_con = {'Ni': 1.16, 'Al': 3.01, 'Co': 1.03, 'Cr': 0.92, 'Mo': 1.39, 'Re': 1.4, 'Ru': 1.04, 'Ti': 1.14,\n",
    "           'Ta': 1.57, 'W': 1.43, 'Hf':1.76, 'Nb':1.32, 'Si':4, 'C':3.92, 'Y':3.15, 'B':2.98}\n",
    "# Ni中扩散系数\n",
    "D0_Ni = {'Ni':1.9e-4, 'Al': 1.85e-4, 'Co':7.5e-5, 'Cr':3e-6, 'Mo':1.15e-4, 'Re':8.2e-7, \n",
    "         'Ru':2.48e-4, 'Ti':4.1e-4, 'Ta':0.031e-4, 'W':8e-6, 'Nb': 0.595e-4}\n",
    "# Ni中扩散激活能\n",
    "q_Ni = {'Ni': -287, 'Al': -284, 'Co': -284.169, 'Cr': -287, 'Mo': -267.585, 'Re': -278.817,\n",
    "        'Ru': -304.489, 'Ti': -256.9, 'Ta': -267.729, 'W': -282.13, 'Hf': -251.956, 'Nb': -230}\n",
    "# Ni3Al中扩散系数\n",
    "D0_Ni3Al = {'Ni':1e-4, 'Al': 6.6e-8, 'Co':4.2e-3, 'Cr':1.1e-1, 'Mo':2.3e2, 'Re':1.5, \n",
    "            'Ru':1.3e-3, 'Ti':56, 'Ta':7.16, 'Nb': 26}\n",
    "# Ni3Al中扩散激活能\n",
    "q_Ni3Al = {'Ni': -303, 'Al': -258, 'Co': -325, 'Cr': -366, 'Mo': -493,\n",
    "           'Re': -467.5, 'Ru': -318.7, 'Ti': -468, 'Ta': -425, 'Nb': -475.6}"
   ]
  },
  {
   "cell_type": "code",
   "execution_count": 3,
   "metadata": {},
   "outputs": [],
   "source": [
    "class FeatureEngineer:\n",
    "    def __init__(self, properties_dict, data):\n",
    "        self.properties_dict = properties_dict\n",
    "        self.data = data\n",
    "\n",
    "    def mean_calc(self, p_dict):\n",
    "        calc_num = np.zeros(len(self.data))\n",
    "        for atom in p_dict.keys():\n",
    "            calc_num += self.data.loc[:, atom].values * p_dict[atom]\n",
    "        return calc_num\n",
    "\n",
    "    def diff_calc(self, p_dict):\n",
    "        calc_num = np.zeros(len(self.data))\n",
    "        for atom in p_dict.keys():\n",
    "            calc_num += self.data[atom].values * (p_dict['Ni'] - p_dict[atom]) ** 2\n",
    "        return np.sqrt(calc_num)\n",
    "\n",
    "    def get_feature(self):\n",
    "        feature_df = pd.DataFrame()\n",
    "        for p_name, p_dict in self.properties_dict.items():\n",
    "            feature_df[p_name + '_avg'] = self.mean_calc(p_dict)\n",
    "            feature_df[p_name + '_var'] = self.diff_calc(p_dict)\n",
    "        return feature_df"
   ]
  },
  {
   "cell_type": "code",
   "execution_count": 4,
   "metadata": {},
   "outputs": [],
   "source": [
    "def wt_to_at(data, atom_features):\n",
    "    wt_value = data[atom_features].values\n",
    "    at_value = wt_value / np.array([atom_mass[j] for j in atom_features])\n",
    "    sum_num = np.sum(at_value, axis=1).reshape(-1, 1)\n",
    "    at_value = at_value / sum_num\n",
    "    for index, i in enumerate(atom_features):\n",
    "        data.loc[:, i] = at_value[:, index]\n",
    "    return data\n",
    "\n",
    "def G_al2o3(T, al_a):\n",
    "    G0 = 0.2193*(T + 273.15) - 1127.3137\n",
    "    R = 8.314\n",
    "    p = 0.2\n",
    "    return G0 + (R*(T + 273.15)*np.log(1 / al_a**(4/3) / p)) / 1000\n",
    "\n",
    "def Val_eff(data, c=False):\n",
    "    val_eff_num = 0\n",
    "    for i in ion_valence.keys():\n",
    "        if not c:\n",
    "            val_eff_num += (ion_valence[i] - 3)*data[i]\n",
    "        elif c == 'A1':\n",
    "            if i in ['Ni', 'Al', 'Co', 'Cr', 'Mo', 'Re', 'Ru', 'Ti', 'Ta', 'W', 'Hf']: \n",
    "                val_eff_num += (ion_valence[i] - 3)*data[i + '_A1']\n",
    "        elif c == 'L12':\n",
    "            if i in ['Ni', 'Al', 'Co', 'Cr', 'Mo', 'Re', 'Ru', 'Ti', 'Ta', 'W', 'Hf']: \n",
    "                val_eff_num += (ion_valence[i] - 3)*data[i + '_L12']\n",
    "    return val_eff_num\n",
    "\n",
    "def Ni_diffusion(data):\n",
    "    D0_eff = 0\n",
    "    elem = ['Ni', 'Al', 'Co', 'Cr', 'Mo', 'Re', 'Ru', 'Ti', 'Ta', 'W']\n",
    "    for atom in elem:\n",
    "        D0_eff += D0_Ni[atom] * data[atom + '_A1']\n",
    "    Q_eff = q_Ni['Ni']\n",
    "    for atom in elem[1: ]:\n",
    "        Q_eff += q_Ni[atom] * data[atom + '_A1']\n",
    "    D_eff = D0_eff*np.exp(Q_eff*1000 / 8.314 / (data['Temperature'] + 273.15))\n",
    "    return D_eff\n",
    "\n",
    "def Ni3Al_diffusion(data):\n",
    "    D0_eff = 0\n",
    "    elem = ['Ni', 'Al', 'Co', 'Cr', 'Mo', 'Re', 'Ru', 'Ti', 'Ta']\n",
    "    for atom in elem:\n",
    "        D0_eff += D0_Ni3Al[atom] * data[atom + '_L12']\n",
    "    Q_eff = 0\n",
    "    for atom in elem:\n",
    "        Q_eff += q_Ni3Al[atom] * data[atom + '_L12']\n",
    "    D_eff = D0_eff*np.exp(Q_eff*1000 / 8.314 / (data['Temperature'] + 273.15))\n",
    "    return D_eff"
   ]
  },
  {
   "cell_type": "code",
   "execution_count": 5,
   "metadata": {},
   "outputs": [],
   "source": [
    "def computeCorrelation(X, Y):\n",
    "    xBar = np.mean(X)\n",
    "    yBar = np.mean(Y)\n",
    "    SSR = 0\n",
    "    varX = 0\n",
    "    varY = 0\n",
    "    for i in range(0 , len(X)):\n",
    "        diffXXBar = X[i] - xBar\n",
    "        diffYYBar = Y[i] - yBar\n",
    "        SSR += (diffXXBar * diffYYBar)\n",
    "        varX +=  diffXXBar**2\n",
    "        varY += diffYYBar**2\n",
    "    \n",
    "    SST = np.sqrt(varX * varY)\n",
    "    return SSR / SST"
   ]
  },
  {
   "cell_type": "code",
   "execution_count": 6,
   "metadata": {},
   "outputs": [],
   "source": [
    "path = '.../Al2O3_tc_data.csv'\n",
    "sign_path = '.../Al2O3_tc_data_label.csv'\n",
    "composition_features = ['Ni', 'Al', 'Co', 'Cr', 'Mo', 'Re', 'Ru', 'Ti', 'Ta', 'W', 'Hf', 'Nb', 'Si', 'C', 'Y', 'Ce', 'B']\n",
    "a_features = ['Ni_a', 'Al_a', 'Co_a', 'Cr_a']\n",
    "properties_dict = {'CE': CE, 'PE': PE, 'IE': IE, 'VE': VE, 'a_r': atom_radius, 'i_r': ion_radius,\n",
    "                   'ion_v': ion_valence, 'e_a_con': e_a_con}"
   ]
  },
  {
   "cell_type": "code",
   "execution_count": 7,
   "metadata": {},
   "outputs": [],
   "source": [
    "data = pd.read_csv(path, encoding='gb2312')\n",
    "# transfer wt. to at.\n",
    "data = wt_to_at(data, composition_features)\n",
    "# cbcv features\n",
    "FE = FeatureEngineer(properties_dict, data)\n",
    "cbfv_features = FE.get_feature()\n",
    "for i in cbfv_features.columns:\n",
    "    data[i] = cbfv_features[i]\n",
    "sign_data = pd.read_csv(sign_path, encoding='gb2312')\n",
    "continuous = sign_data['Continuous Al2O3?']\n",
    "data['continuous'] = continuous\n",
    "data = data[data['continuous'] == '1']\n",
    "data['index'] = range(len(data))\n",
    "data['group'] = data.groupby(composition_features)['index'].transform('max')\n",
    "groups = data['group']\n",
    "data.drop(['index', 'group', 'continuous'], axis=1, inplace=True)"
   ]
  },
  {
   "cell_type": "code",
   "execution_count": 8,
   "metadata": {},
   "outputs": [],
   "source": [
    "composition_num = len(set(groups))\n",
    "kp_label = np.log(data['k(g2/m4/h)'].values)\n",
    "gkf = GroupKFold(n_splits=composition_num)"
   ]
  },
  {
   "cell_type": "code",
   "execution_count": 9,
   "metadata": {},
   "outputs": [],
   "source": [
    "# domain features\n",
    "data['Val_eff_c'] = Val_eff(data)\n",
    "data['Val_eff_γ'] = Val_eff(data, c='A1')\n",
    "data[\"Val_eff_γ'\"] = Val_eff(data, c='L12')\n",
    "data['G_al2O3'] = G_al2o3(data['Temperature'], data['Al_a'])\n",
    "data['D_Ni'] = Ni_diffusion(data)\n",
    "data['D_Ni3Al'] = Ni3Al_diffusion(data)"
   ]
  },
  {
   "attachments": {},
   "cell_type": "markdown",
   "metadata": {},
   "source": [
    "## A sub-regional conquer linear model inspired by the physical formula"
   ]
  },
  {
   "cell_type": "code",
   "execution_count": 10,
   "metadata": {},
   "outputs": [],
   "source": [
    "U_df = pd.read_csv('.../U-kp.csv', encoding='gb2312')"
   ]
  },
  {
   "cell_type": "code",
   "execution_count": 11,
   "metadata": {},
   "outputs": [],
   "source": [
    "U_data_low = U_df[U_df['res'] < -1.3968]\n",
    "U_data_mid = U_df[(U_df['res'] >= -1.3968)&(U_df['res'] <= 1.6049)]\n",
    "U_data_up = U_df[(U_df['res'] > 1.6049)&(U_df['res'] < 5)]\n",
    "U_data_up2 = U_df[(U_df['res'] >= 5)]"
   ]
  },
  {
   "cell_type": "code",
   "execution_count": 12,
   "metadata": {},
   "outputs": [],
   "source": [
    "from sklearn.svm import SVR"
   ]
  },
  {
   "cell_type": "code",
   "execution_count": 13,
   "metadata": {},
   "outputs": [
    {
     "name": "stdout",
     "output_type": "stream",
     "text": [
      "0.7420320882704077\n",
      "0.8906781513152556\n",
      "0.890231566407782\n",
      "0.8629900410230323\n"
     ]
    },
    {
     "data": {
      "image/png": "[encoded data removed]",
      "text/plain": [
       "<Figure size 360x252 with 1 Axes>"
      ]
     },
     "metadata": {
      "needs_background": "light"
     },
     "output_type": "display_data"
    }
   ],
   "source": [
    "# outlier high\n",
    "linear1 = SVR(kernel='linear', C=0.003)\n",
    "linear1.fit(U_data_up2['U'].values.reshape(-1, 1), U_data_up2['kp_label'].values)\n",
    "x = np.arange(np.min(U_data_up2['U'].values) - 5, np.max(U_data_up2['U'].values) + 5, 0.2)\n",
    "y = linear1.predict(x.reshape(-1, 1))\n",
    "plt.figure(figsize=(5, 3.5))\n",
    "plt.grid(linestyle='--', alpha=0.5, zorder=0)\n",
    "plt.scatter(U_data_up2['U'].values, U_data_up2['kp_label'].values, \n",
    "            label='Group 1', alpha=0.75, c='tab:red')\n",
    "plt.plot(x, y, c='red')\n",
    "print(computeCorrelation(U_data_up2['kp_label'].values, linear1.predict(U_data_up2['U'].values.reshape(-1, 1))))\n",
    "# high\n",
    "linear2 = SVR(kernel='linear')\n",
    "linear2.fit(U_data_up['U'].values.reshape(-1, 1), U_data_up['kp_label'].values)\n",
    "x = np.arange(np.min(U_data_up['U'].values) - 5, np.max(U_data_up['U'].values) + 5, 0.2)\n",
    "y = linear2.predict(x.reshape(-1, 1))\n",
    "plt.scatter(U_data_up['U'].values, U_data_up['kp_label'].values, \n",
    "            label='Group 2', alpha=0.75, c='tab:green')\n",
    "plt.plot(x, y, c='limegreen')\n",
    "print(computeCorrelation(U_data_up['kp_label'].values, linear1.predict(U_data_up['U'].values.reshape(-1, 1))))\n",
    "# mid\n",
    "linear3 = SVR(kernel='linear')\n",
    "linear3.fit(U_data_mid['U'].values.reshape(-1, 1), U_data_mid['kp_label'].values)\n",
    "x = np.arange(np.min(U_data_mid['U'].values ) - 5, np.max(U_data_mid['U'].values) + 15, 0.2)\n",
    "y = linear3.predict(x.reshape(-1, 1))\n",
    "plt.plot(x, y + 4.8, '--', c='gray', alpha=0.5)\n",
    "plt.plot(x, y + 1.6049, '--', c='gray', alpha=0.5)\n",
    "plt.plot(x, y - 1.4, '--', c='gray', alpha=0.5)\n",
    "plt.scatter(U_data_mid['U'].values, U_data_mid['kp_label'].values, \n",
    "            label='Group 3', alpha=0.75, c='tab:orange')\n",
    "plt.plot(x, y, c='tomato')\n",
    "print(computeCorrelation(U_data_mid['kp_label'].values, linear1.predict(U_data_mid['U'].values.reshape(-1, 1))))\n",
    "# low\n",
    "linear4 = SVR(kernel='linear')\n",
    "linear4.fit(U_data_low['U'].values.reshape(-1, 1), U_data_low['kp_label'].values)\n",
    "x = np.arange(np.min(U_data_low['U'].values) - 5, np.max(U_data_low['U'].values) + 5, 0.2)\n",
    "y = linear4.predict(x.reshape(-1, 1))\n",
    "plt.scatter(U_data_low['U'].values, U_data_low['kp_label'].values, \n",
    "            label='Group 4', alpha=0.75, c='tab:blue')\n",
    "plt.plot(x, y, c='royalblue')\n",
    "print(computeCorrelation(U_data_low['kp_label'].values, linear1.predict(U_data_low['U'].values.reshape(-1, 1))))\n",
    "plt.xlabel('U (KJ/mol)', {'family': 'Times New Roman', 'weight': 'bold', 'size': 9})\n",
    "plt.ylabel('ln( $\\mathregular{K_p}$( $\\mathregular{g^2}$/$\\mathregular{m^4}$/h ) )', {'family': 'Times New Roman', 'weight': 'bold', 'size': 9})\n",
    "# plt.colorbar()\n",
    "plt.legend(frameon=False)\n",
    "# plt.savefig('C:/Users/chonglh/Desktop/Group.tif', dpi=330, bbox_inches='tight')\n",
    "plt.show()"
   ]
  },
  {
   "cell_type": "code",
   "execution_count": 14,
   "metadata": {},
   "outputs": [
    {
     "name": "stdout",
     "output_type": "stream",
     "text": [
      "Group 1 coef 0.055 intercept -0.835\n",
      "Group 2 coef 0.052 intercept -4.064\n",
      "Group 3 coef 0.050 intercept -6.832\n",
      "Group 4 coef 0.048 intercept -10.223\n"
     ]
    }
   ],
   "source": [
    "print('Group 1 coef {:.3f} intercept {:.3f}'.format(linear1.coef_[0][0], linear1.intercept_[0]))\n",
    "print('Group 2 coef {:.3f} intercept {:.3f}'.format(linear2.coef_[0][0], linear2.intercept_[0]))\n",
    "print('Group 3 coef {:.3f} intercept {:.3f}'.format(linear3.coef_[0][0], linear3.intercept_[0]))\n",
    "print('Group 4 coef {:.3f} intercept {:.3f}'.format(linear4.coef_[0][0], linear4.intercept_[0]))"
   ]
  },
  {
   "cell_type": "code",
   "execution_count": 15,
   "metadata": {},
   "outputs": [
    {
     "data": {
      "image/png": "[encoded data removed]",
      "text/plain": [
       "<Figure size 252x252 with 1 Axes>"
      ]
     },
     "metadata": {
      "needs_background": "light"
     },
     "output_type": "display_data"
    },
    {
     "name": "stdout",
     "output_type": "stream",
     "text": [
      "0.9667228376210439\n",
      "0.741014990447878\n",
      "0.944910164915911\n",
      "0.8920657248043019\n"
     ]
    }
   ],
   "source": [
    "# low\n",
    "plt.figure(figsize=(3.5, 3.5))\n",
    "plt.grid(linestyle='--', alpha=0.5, zorder=0)\n",
    "plt.plot(range(-1, 21000, 1), range(-1, 21000, 1), '--', c='gray')\n",
    "# outliter high\n",
    "linear1 = SVR(kernel='linear', C=0.003)\n",
    "linear1.fit(U_data_up2['U'].values.reshape(-1, 1), U_data_up2['kp_label'].values)\n",
    "y4 = linear1.predict(U_data_up2['U'].values.reshape(-1, 1))\n",
    "plt.loglog(np.exp(y4), np.exp(U_data_up2['kp_label'].values), '.', marker='o',\n",
    "           c='tab:red', markeredgecolor='red', label='Group 1', zorder=2, alpha=0.75)\n",
    "# plt.scatter(y4, U_data_up2['kp_label'].values)\n",
    "\n",
    "# high\n",
    "linear2 = SVR(kernel='linear')\n",
    "linear2.fit(U_data_up['U'].values.reshape(-1, 1), U_data_up['kp_label'].values)\n",
    "y2 = linear2.predict(U_data_up['U'].values.reshape(-1, 1))\n",
    "plt.loglog(np.exp(y2), np.exp(U_data_up['kp_label'].values), '.', marker='o',\n",
    "           c='tab:green', markeredgecolor='green', label='Group 2', zorder=2, alpha=0.75)\n",
    "# plt.scatter(y2, U_data_up['kp_label'].values)\n",
    "\n",
    "# mid\n",
    "linear3 = SVR(kernel='linear')\n",
    "linear3.fit(U_data_mid['U'].values.reshape(-1, 1), U_data_mid['kp_label'].values)\n",
    "y3 = linear3.predict(U_data_mid['U'].values.reshape(-1, 1))\n",
    "plt.loglog(np.exp(y3), np.exp(U_data_mid['kp_label'].values), '.', marker='o',\n",
    "           c='tab:orange', markeredgecolor='tomato', label='Group 3', zorder=2, alpha=0.75)\n",
    "# plt.scatter(y3, U_data_mid['kp_label'].values)\n",
    "linear4 = SVR(kernel='linear')\n",
    "linear4.fit(U_data_low['U'].values.reshape(-1, 1), U_data_low['kp_label'].values)\n",
    "y1 = linear4.predict(U_data_low['U'].values.reshape(-1, 1))\n",
    "plt.loglog(np.exp(y1), np.exp(U_data_low['kp_label'].values), '.', marker='o',\n",
    "           c='tab:blue', markeredgecolor='royalblue', label='Group 4', zorder=2, alpha=0.75)\n",
    "# plt.scatter(y1, U_data_low['kp_label'].values)\n",
    "a = [y1, y2, y3, y4]\n",
    "b = [U_data_low['kp_label'].values, U_data_up['kp_label'].values, U_data_mid['kp_label'].values, U_data_up2['kp_label'].values]\n",
    "plt.xlim(10**(-4), 500)\n",
    "plt.ylim(10**(-4), 500)\n",
    "plt.xlabel('Predicted $\\mathregular{K_p}$( $\\mathregular{g^2}$/$\\mathregular{m^4}$/h )', {'family': 'Times New Roman', 'weight': 'bold', 'size': 9})\n",
    "plt.ylabel('Experimental $\\mathregular{K_p}$( $\\mathregular{g^2}$/$\\mathregular{m^4}$/h )', {'family': 'Times New Roman', 'weight': 'bold', 'size': 9})\n",
    "plt.text(0.0005, 2, s='R: {:.3f}'.format(computeCorrelation(np.concatenate(a, axis=0), np.concatenate(b, axis=0))), fontdict={'family': 'Times New Roman', 'weight': 'bold', 'size': 9})\n",
    "plt.legend(frameon=False)\n",
    "# plt.savefig('C:/Users/chonglh/Desktop/Group_perfect.tif', dpi=330, bbox_inches='tight')\n",
    "plt.show()\n",
    "print(np.sqrt(mean_squared_error(np.concatenate(b, axis=0), np.concatenate(a, axis=0))))\n",
    "print(mean_absolute_error(np.concatenate(b, axis=0), np.concatenate(a, axis=0)))\n",
    "print(computeCorrelation(np.concatenate(b, axis=0), np.concatenate(a, axis=0)))\n",
    "print(r2_score(np.concatenate(b, axis=0), np.concatenate(a, axis=0)))"
   ]
  },
  {
   "cell_type": "code",
   "execution_count": 16,
   "metadata": {},
   "outputs": [],
   "source": [
    "linear_list0 = [linear1, linear2, linear3, linear4]"
   ]
  },
  {
   "cell_type": "code",
   "execution_count": 17,
   "metadata": {},
   "outputs": [],
   "source": [
    "def c_label(x):\n",
    "    if x < -1.3968:\n",
    "        return 0 \n",
    "    elif x>= -1.3968 and x <= 1.6049:\n",
    "        return 2\n",
    "    elif x > 1.6049 and x < 5:\n",
    "        return 1\n",
    "    elif x >= 5:\n",
    "        return 3"
   ]
  },
  {
   "cell_type": "code",
   "execution_count": 18,
   "metadata": {},
   "outputs": [],
   "source": [
    "classify_label = U_df['res'].map(c_label).values\n",
    "data['classify_label'] = classify_label"
   ]
  },
  {
   "cell_type": "code",
   "execution_count": 19,
   "metadata": {},
   "outputs": [
    {
     "data": {
      "text/plain": [
       "<matplotlib.collections.PathCollection at 0x1d2002be940>"
      ]
     },
     "execution_count": 19,
     "metadata": {},
     "output_type": "execute_result"
    },
    {
     "data": {
      "image/png": "[encoded data removed]",
      "text/plain": [
       "<Figure size 432x288 with 1 Axes>"
      ]
     },
     "metadata": {
      "needs_background": "light"
     },
     "output_type": "display_data"
    }
   ],
   "source": [
    "plt.scatter(U_df['U'], kp_label, c=classify_label)"
   ]
  },
  {
   "cell_type": "code",
   "execution_count": 20,
   "metadata": {},
   "outputs": [
    {
     "name": "stdout",
     "output_type": "stream",
     "text": [
      "0.8166666666666667\n"
     ]
    },
    {
     "data": {
      "image/png": "[encoded data removed]",
      "text/plain": [
       "<Figure size 252x252 with 2 Axes>"
      ]
     },
     "metadata": {
      "needs_background": "light"
     },
     "output_type": "display_data"
    },
    {
     "data": {
      "image/png": "[encoded data removed]",
      "text/plain": [
       "<Figure size 252x252 with 1 Axes>"
      ]
     },
     "metadata": {
      "needs_background": "light"
     },
     "output_type": "display_data"
    },
    {
     "name": "stdout",
     "output_type": "stream",
     "text": [
      "0.8429869484267162\n"
     ]
    }
   ],
   "source": [
    "f = ['VE_avg', 'e_a_con_avg', 'i_r_var', 'D_Ni3Al', 'CE_avg', 'PE_var', 'D_Ni', \"Val_eff_γ'\"]\n",
    "data_f = data[f]\n",
    "# classify\n",
    "test_list = []\n",
    "pre_list = []\n",
    "# Regression\n",
    "test_list1 = []\n",
    "pre_list1 = []\n",
    "for fold, (train_id, test_id) in enumerate(gkf.split(data_f, kp_label, groups=groups)):\n",
    "    # train, test\n",
    "    train = data_f.values[train_id]\n",
    "    test = data_f.values[test_id]\n",
    "    # Standar transform\n",
    "    scalar = StandardScaler()\n",
    "    train = scalar.fit_transform(train)\n",
    "    test = scalar.transform(test)\n",
    "    # classify label\n",
    "    train_label = classify_label[train_id]\n",
    "    test_label = classify_label[test_id]\n",
    "    test_list.append(test_label)\n",
    "    # Regression label\n",
    "    train_label1 = kp_label[train_id]\n",
    "    test_label1 = kp_label[test_id]\n",
    "    test_list1.append(test_label1)\n",
    "    # Classify\n",
    "    rf = lgb.LGBMClassifier(**{'n_estimators': 1657, 'subsample': 0.832392,\n",
    "                               'colsample_bytree': 0.91, 'reg_alpha': 0.0391247, \n",
    "          'reg_lambda': 1.6462272, 'min_child_samples': 2}, silent=False, verbosity=-1)\n",
    "    rf.fit(train, train_label)\n",
    "    train_pre = rf.predict(train)\n",
    "    test_pre = rf.predict(test)\n",
    "    pre_list.append(test_pre)\n",
    "    # Linear Regression\n",
    "    for i in range(len(test_pre)):\n",
    "        if test_pre[i] == 0:\n",
    "            test_pre1 = linear_list0[3].predict(U_df['U'].values[test_id][i].reshape(1, -1))\n",
    "        elif test_pre[i] == 1:\n",
    "            test_pre1 = linear_list0[1].predict(U_df['U'].values[test_id][i].reshape(1, -1))\n",
    "        elif test_pre[i] == 2:\n",
    "            test_pre1 = linear_list0[2].predict(U_df['U'].values[test_id][i].reshape(1, -1))\n",
    "        else:\n",
    "            test_pre1 = linear_list0[0].predict(U_df['U'].values[test_id][i].reshape(1, -1))\n",
    "        pre_list1.append(test_pre1)\n",
    "\n",
    "print(accuracy_score(np.concatenate(test_list, axis=0), np.concatenate(pre_list, axis=0)))\n",
    "plt.figure(figsize=(3.5, 3.5))\n",
    "sns.heatmap(confusion_matrix(np.concatenate(test_list, axis=0), np.concatenate(pre_list, axis=0)), annot=True, cmap=\"BuPu\")\n",
    "plt.show()\n",
    "\n",
    "plt.figure(figsize=(3.5, 3.5))\n",
    "plt.grid(linestyle='--', alpha=0.5, zorder=0)\n",
    "plt.plot(range(0, 21000, 1), range(0, 21000, 1), '--', c='gray')\n",
    "plt.loglog(np.exp(np.concatenate(pre_list1, axis=0)), np.exp(np.concatenate(test_list1, axis=0)), '.', \n",
    "            c='lightgreen', marker='o', label='Group Linear', markeredgecolor='green', zorder=2)\n",
    "plt.xlim(10**(-4), 500)\n",
    "plt.ylim(10**(-4), 500)\n",
    "plt.xlabel('Predicted $\\mathregular{K_p}$( $\\mathregular{g^2}$/$\\mathregular{m^4}$/h )', {'family': 'Times New Roman', 'weight': 'bold', 'size': 9})\n",
    "plt.ylabel('Experimental $\\mathregular{K_p}$( $\\mathregular{g^2}$/$\\mathregular{m^4}$/h )', {'family': 'Times New Roman', 'weight': 'bold', 'size': 9})\n",
    "plt.text(0.0009, 25, s='R: {:.3f}'.format(computeCorrelation(np.concatenate(test_list1, axis=0), np.concatenate(pre_list1, axis=0))), fontdict={'family': 'Times New Roman', 'weight': 'bold', 'size': 9})\n",
    "plt.legend(loc=2, frameon=False, labelspacing=2)\n",
    "# plt.savefig('C:/Users/chonglh/Desktop/group_pre1.tif', dpi=330, bbox_inches='tight')\n",
    "plt.show()\n",
    "print(computeCorrelation(np.concatenate(test_list1, axis=0), np.concatenate(pre_list1, axis=0)))"
   ]
  },
  {
   "cell_type": "code",
   "execution_count": 21,
   "metadata": {},
   "outputs": [
    {
     "name": "stdout",
     "output_type": "stream",
     "text": [
      "0.8166666666666667\n"
     ]
    },
    {
     "data": {
      "image/png": "[encoded data removed]",
      "text/plain": [
       "<Figure size 302.4x252 with 2 Axes>"
      ]
     },
     "metadata": {
      "needs_background": "light"
     },
     "output_type": "display_data"
    },
    {
     "data": {
      "image/png": "[encoded data removed]",
      "text/plain": [
       "<Figure size 252x252 with 1 Axes>"
      ]
     },
     "metadata": {
      "needs_background": "light"
     },
     "output_type": "display_data"
    },
    {
     "name": "stdout",
     "output_type": "stream",
     "text": [
      "0.8429869484267162\n"
     ]
    }
   ],
   "source": [
    "f = ['VE_avg', 'e_a_con_avg', 'i_r_var', 'D_Ni3Al', 'CE_avg', 'PE_var', 'D_Ni', \"Val_eff_γ'\"]\n",
    "data_f = data[f]\n",
    "# classify\n",
    "test_list = []\n",
    "pre_list = []\n",
    "# Regression\n",
    "test_list1 = []\n",
    "pre_list1 = []\n",
    "for fold, (train_id, test_id) in enumerate(gkf.split(data_f, kp_label, groups=groups)):\n",
    "    # train, test\n",
    "    train = data_f.values[train_id]\n",
    "    test = data_f.values[test_id]\n",
    "    # Standar transform\n",
    "    scalar = StandardScaler()\n",
    "    train = scalar.fit_transform(train)\n",
    "    test = scalar.transform(test)\n",
    "    # classify label\n",
    "    train_label = classify_label[train_id]\n",
    "    test_label = classify_label[test_id]\n",
    "    test_list.append(test_label)\n",
    "    # Regression label\n",
    "    train_label1 = kp_label[train_id]\n",
    "    test_label1 = kp_label[test_id]\n",
    "    test_list1.append(test_label1)\n",
    "    # Classify\n",
    "    rf = lgb.LGBMClassifier(**{'n_estimators': 1657, 'subsample': 0.832392,\n",
    "                               'colsample_bytree': 0.91, 'reg_alpha': 0.0391247, \n",
    "          'reg_lambda': 1.6462272, 'min_child_samples': 2}, silent=False, verbosity=-1)\n",
    "    rf.fit(train, train_label)\n",
    "    train_pre = rf.predict(train)\n",
    "    test_pre = rf.predict(test)\n",
    "    pre_list.append(test_pre)\n",
    "    # Linear Regression\n",
    "    for i in range(len(test_pre)):\n",
    "        if test_pre[i] == 0:\n",
    "            test_pre1 = linear_list0[3].predict(U_df['U'].values[test_id][i].reshape(1, -1))\n",
    "        elif test_pre[i] == 1:\n",
    "            test_pre1 = linear_list0[1].predict(U_df['U'].values[test_id][i].reshape(1, -1))\n",
    "        elif test_pre[i] == 2:\n",
    "            test_pre1 = linear_list0[2].predict(U_df['U'].values[test_id][i].reshape(1, -1))\n",
    "        else:\n",
    "            test_pre1 = linear_list0[0].predict(U_df['U'].values[test_id][i].reshape(1, -1))\n",
    "        pre_list1.append(test_pre1)\n",
    "\n",
    "print(accuracy_score(np.concatenate(test_list, axis=0), np.concatenate(pre_list, axis=0)))\n",
    "plt.figure(figsize=(4.2, 3.5))\n",
    "sns.heatmap(confusion_matrix(np.concatenate(test_list, axis=0), np.concatenate(pre_list, axis=0)), annot=True, cmap=\"BuPu\")\n",
    "# plt.savefig('C:/Users/chonglh/Desktop/classify_res.tif', dpi=330, bbox_inches='tight')\n",
    "plt.show()\n",
    "\n",
    "def get_group_id(label):\n",
    "    id_list = []\n",
    "    for i in range(len(np.concatenate(pre_list, axis=0))):\n",
    "        if np.concatenate(pre_list, axis=0)[i] == label:\n",
    "            id_list.append(i)\n",
    "    return id_list\n",
    "\n",
    "def get_group_id2(label):\n",
    "    id_list = []\n",
    "    for i in range(len(np.concatenate(pre_list, axis=0))):\n",
    "        if np.concatenate(pre_list, axis=0)[i] != label and np.concatenate(test_list, axis=0)[i] == label:\n",
    "            id_list.append(i)\n",
    "    return id_list\n",
    "\n",
    "plt.figure(figsize=(3.5, 3.5))\n",
    "plt.grid(linestyle='--', alpha=0.5, zorder=0)\n",
    "plt.plot(range(0, 21000, 1), range(0, 21000, 1), '--', c='gray')\n",
    "plt.loglog(np.exp(np.concatenate(pre_list1, axis=0)[get_group_id(3)]), np.exp(np.concatenate(test_list1, axis=0)[get_group_id(3)]), '.', markeredgecolor='red', c='tab:red', \n",
    "            marker='o', label='Pre - Group 1', alpha=0.7)\n",
    "plt.loglog(np.exp(np.concatenate(pre_list1, axis=0)[get_group_id(1)]), np.exp(np.concatenate(test_list1, axis=0)[get_group_id(1)]), '.', markeredgecolor='green', c='tab:green',\n",
    "            marker='o', label='Pre - Group 2', alpha=0.7)\n",
    "plt.loglog(np.exp(np.concatenate(pre_list1, axis=0)[get_group_id(2)]), np.exp(np.concatenate(test_list1, axis=0)[get_group_id(2)]), '.', markeredgecolor='tomato', c='tab:orange',\n",
    "            marker='o', label='Pre - Group 3', alpha=0.7)\n",
    "plt.loglog(np.exp(np.concatenate(pre_list1, axis=0)[get_group_id(0)]), np.exp(np.concatenate(test_list1, axis=0)[get_group_id(0)]), '.', markeredgecolor='royalblue', c='tab:blue',   \n",
    "            marker='o', label='Pre - Group 4', alpha=0.7)\n",
    "# Wrong\n",
    "plt.loglog(np.exp(np.concatenate(pre_list1, axis=0)[get_group_id2(3)]), np.exp(np.concatenate(test_list1, axis=0)[get_group_id2(3)]), '.', markeredgecolor='red', c='tab:red', \n",
    "            marker='x', alpha=0.85, markersize=5)\n",
    "plt.loglog(np.exp(np.concatenate(pre_list1, axis=0)[get_group_id2(1)]), np.exp(np.concatenate(test_list1, axis=0)[get_group_id2(1)]), '.', markeredgecolor='green', c='tab:green',\n",
    "            marker='x', alpha=0.85, markersize=5)\n",
    "plt.loglog(np.exp(np.concatenate(pre_list1, axis=0)[get_group_id2(2)]), np.exp(np.concatenate(test_list1, axis=0)[get_group_id2(2)]), '.', markeredgecolor='tomato', c='tab:orange',\n",
    "            marker='x', alpha=0.85, markersize=5)\n",
    "plt.loglog(np.exp(np.concatenate(pre_list1, axis=0)[get_group_id2(0)]), np.exp(np.concatenate(test_list1, axis=0)[get_group_id2(0)]), '.', markeredgecolor='royalblue', c='tab:blue',   \n",
    "            marker='x', alpha=0.85, markersize=5)\n",
    "plt.xlim(10**(-4), 500)\n",
    "plt.ylim(10**(-4), 500)\n",
    "plt.xlabel('Predicted $\\mathregular{K_p}$( $\\mathregular{g^2}$/$\\mathregular{m^4}$/h )', {'family': 'Times New Roman', 'weight': 'bold', 'size': 9})\n",
    "plt.ylabel('Experimental $\\mathregular{K_p}$( $\\mathregular{g^2}$/$\\mathregular{m^4}$/h )', {'family': 'Times New Roman', 'weight': 'bold', 'size': 9})\n",
    "plt.text(0.00025, 2, s='R: {:.3f}'.format(computeCorrelation(np.concatenate(test_list1, axis=0), np.concatenate(pre_list1, axis=0))), fontdict={'family': 'Times New Roman', 'weight': 'bold', 'size': 9})\n",
    "plt.legend(frameon=False)\n",
    "# plt.savefig('C:/Users/chonglh/Desktop/group_pre2.tif', dpi=330, bbox_inches='tight')\n",
    "plt.show()\n",
    "print(computeCorrelation(np.concatenate(test_list1, axis=0), np.concatenate(pre_list1, axis=0)))"
   ]
  }
 ],
 "metadata": {
  "kernelspec": {
   "display_name": "Python 3",
   "language": "python",
   "name": "python3"
  },
  "language_info": {
   "codemirror_mode": {
    "name": "ipython",
    "version": 3
   },
   "file_extension": ".py",
   "mimetype": "text/x-python",
   "name": "python",
   "nbconvert_exporter": "python",
   "pygments_lexer": "ipython3",
   "version": "3.9.1"
  },
  "orig_nbformat": 4
 },
 "nbformat": 4,
 "nbformat_minor": 2
}

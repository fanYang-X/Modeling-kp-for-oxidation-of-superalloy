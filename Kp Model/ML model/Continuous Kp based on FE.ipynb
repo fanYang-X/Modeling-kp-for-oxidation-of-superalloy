{
 "cells": [
  {
   "cell_type": "code",
   "execution_count": 1,
   "metadata": {},
   "outputs": [],
   "source": [
    "import numpy as np\n",
    "import pandas as pd\n",
    "import matplotlib.pylab as plt\n",
    "import seaborn as sns\n",
    "from sklearn.preprocessing import StandardScaler\n",
    "from sklearn.model_selection import GroupKFold\n",
    "from sklearn.metrics import r2_score, mean_squared_error, mean_absolute_error\n",
    "from sklearn.ensemble import RandomForestRegressor\n",
    "import warnings\n",
    "warnings.filterwarnings('ignore')\n",
    "\n",
    "plt.rc('font', family='Times New Roman', size=7.5, weight='bold')\n",
    "font = {'family': 'Times New Roman', 'weight': 'bold', 'size': 7.5}"
   ]
  },
  {
   "cell_type": "code",
   "execution_count": 2,
   "metadata": {},
   "outputs": [],
   "source": [
    "# 摩尔质量\n",
    "atom_mass = {'Ni': 58.69, 'Al': 26.98, 'Co': 58.93, 'Cr': 52, 'Mo': 95.95, 'Re': 186.2, 'Ru': 101.07,\n",
    "             'Ti': 47.87, 'Ta': 180.94, 'W':  183.84, 'Hf': 178.49, 'Nb': 92.90, 'Si': 28.085, 'C': 12,\n",
    "             'Y': 88.90, 'Ce': 140.12, 'B': 10.81}\n",
    "# 内聚能\n",
    "CE = {'Ni':4.435, 'Al':3.389, 'Co':4.394, 'Cr':4.094, 'Mo':6.819, 'Re':8.03, 'Ru':6.74, 'Ti':4.85, 'Ta':8.105, \n",
    "      'W':8.903, 'Hf':6.436, 'Nb':7.566, 'Si':4.63, 'C':7.37, 'Y':4.37, 'Ce':4.32, 'B':5.77}\n",
    "# 电负性\n",
    "PE = {'Ni':1.91, 'Al':1.61, 'Co':1.88, 'Cr':1.66, 'Mo':2.16, 'Re':1.9, 'Ru':2.2, 'Ti':1.54, 'Ta':1.5, \n",
    "      'W':2.36, 'Hf':1.3, 'Nb':1.6, 'Si':1.9, 'C':2.55, 'Y':1.22, 'Ce':1.12, 'B':2.04}\n",
    "# 电离能\n",
    "IE = {'Ni':737.1, 'Al':577.5, 'Co':760.4, 'Cr':652.9, 'Mo':684.3, 'Re':760, 'Ru':710.2, 'Ti':658.8, 'Ta':761, \n",
    "      'W':770, 'Hf':658.5, 'Nb':652.1, 'Si':786.5, 'C':1086.5, 'Y':600, 'Ce':534.4, 'B':800.6}\n",
    "# 空位形成能\n",
    "VE = {'Ni':1.41, 'Al':0.76, 'Co':1.25, 'Cr':1.8, 'Mo':2.67, 'Re':2.37, 'Ru':1.91, 'Ti':1.56, 'Ta':2.88, \n",
    "      'W':3.22, 'Hf':1.87, 'Nb':2.4, 'Si':0, 'C':0, 'Y':1.19, 'Ce':1.27, 'B':0}\n",
    "# 原子半径\n",
    "atom_radius = {'Ni': 0.149, 'Al': 0.118, 'Co': 0.152, 'Cr': 0.166, 'Mo': 0.19, 'Re': 0.188, 'Ru': 0.178, 'Ti': 0.176,\n",
    "               'Ta': 0.2, 'W': 0.193, 'Hf': 0.208, 'Nb': 0.198,\n",
    "               'Si': 0.111, 'C': 0.067, 'Y': 0.212, 'Ce': 0.185, 'B': 0.087}\n",
    "# 离子半径\n",
    "ion_radius = {'Ni': 72, 'Al': 50, 'Co': 74, 'Cr': 69, 'Mo': 62, 'Re': 63, 'Ru': 81, 'Ti': 68,\n",
    "              'Ta': 69, 'W': 62, 'Hf': 79, 'Nb': 70, 'Si': 42, 'C': 16, 'Y': 90, 'Ce': 92, 'B': 20}\n",
    "# 元素价态\n",
    "ion_valence = {'Ni': 2, 'Al': 3, 'Co': 3, 'Cr': 3, 'Mo': 6, 'Re': 5, 'Ru': 4, 'Ti': 4, 'Ta': 5, 'W': 6, \n",
    "               'Hf':4, 'Nb':5, 'Si':4, 'C':4, 'Y':3, 'Ce':4, 'B':3}\n",
    "# e/a\n",
    "e_a_con = {'Ni': 1.16, 'Al': 3.01, 'Co': 1.03, 'Cr': 0.92, 'Mo': 1.39, 'Re': 1.4, 'Ru': 1.04, 'Ti': 1.14,\n",
    "           'Ta': 1.57, 'W': 1.43, 'Hf':1.76, 'Nb':1.32, 'Si':4, 'C':3.92, 'Y':3.15, 'B':2.98}\n",
    "# Ni中扩散系数\n",
    "D0_Ni = {'Ni':1.9e-4, 'Al': 1.85e-4, 'Co':7.5e-5, 'Cr':3e-6, 'Mo':1.15e-4, 'Re':8.2e-7, \n",
    "         'Ru':2.48e-4, 'Ti':4.1e-4, 'Ta':0.031e-4, 'W':8e-6, 'Nb': 0.595e-4}\n",
    "# Ni中扩散激活能\n",
    "q_Ni = {'Ni': -287, 'Al': -284, 'Co': -284.169, 'Cr': -287, 'Mo': -267.585, 'Re': -278.817,\n",
    "        'Ru': -304.489, 'Ti': -256.9, 'Ta': -267.729, 'W': -282.13, 'Hf': -251.956, 'Nb': -230}\n",
    "# Ni3Al中扩散系数\n",
    "D0_Ni3Al = {'Ni':1e-4, 'Al': 6.6e-8, 'Co':4.2e-3, 'Cr':1.1e-1, 'Mo':2.3e2, 'Re':1.5, \n",
    "            'Ru':1.3e-3, 'Ti':56, 'Ta':7.16, 'Nb': 26}\n",
    "# Ni3Al中扩散激活能\n",
    "q_Ni3Al = {'Ni': -303, 'Al': -258, 'Co': -325, 'Cr': -366, 'Mo': -493,\n",
    "           'Re': -467.5, 'Ru': -318.7, 'Ti': -468, 'Ta': -425, 'Nb': -475.6}"
   ]
  },
  {
   "cell_type": "code",
   "execution_count": 3,
   "metadata": {},
   "outputs": [],
   "source": [
    "path = '--'" # data path
   ]
  },
  {
   "cell_type": "code",
   "execution_count": 4,
   "metadata": {},
   "outputs": [],
   "source": [
    "# 成分特征\n",
    "composition_features = ['Ni', 'Al', 'Co', 'Cr', 'Mo', 'Re', 'Ru', 'Ti', 'Ta', 'W',\n",
    "                        'Hf', 'Nb', 'Si', 'C', 'Y', 'Ce', 'B']\n",
    "# 活度特征\n",
    "a_features = ['Ni_a', 'Al_a', 'Cr_a']\n",
    "# 元素性质\n",
    "properties_dict = {'CE': CE, 'PE': PE, 'IE': IE, 'VE': VE, 'a_r': atom_radius, 'i_r': ion_radius,\n",
    "                   'ion_v': ion_valence, 'e_a_con': e_a_con}"
   ]
  },
  {
   "cell_type": "code",
   "execution_count": 5,
   "metadata": {},
   "outputs": [],
   "source": [
    "param_dict = {'RF': {'n_estimators': 492, 'max_features': 1,\n",
    "                               'max_depth': 9, 'random_state': 2022}}"
   ]
  },
  {
   "cell_type": "code",
   "execution_count": 6,
   "metadata": {},
   "outputs": [],
   "source": [
    "class FeatureEngineer:\n",
    "    def __init__(self, properties_dict, data):\n",
    "        self.properties_dict = properties_dict\n",
    "        self.data = data\n",
    "\n",
    "    def mean_calc(self, p_dict):\n",
    "        calc_num = np.zeros(len(self.data))\n",
    "        for atom in p_dict.keys():\n",
    "            calc_num += self.data.loc[:, atom].values * p_dict[atom]\n",
    "        return calc_num\n",
    "\n",
    "    def diff_calc(self, p_dict):\n",
    "        calc_num = np.zeros(len(self.data))\n",
    "        for atom in p_dict.keys():\n",
    "            calc_num += self.data[atom].values * (p_dict['Ni'] - p_dict[atom]) ** 2\n",
    "        return np.sqrt(calc_num)\n",
    "\n",
    "    def get_feature(self):\n",
    "        feature_df = pd.DataFrame()\n",
    "        for p_name, p_dict in self.properties_dict.items():\n",
    "            feature_df[p_name + '_avg'] = self.mean_calc(p_dict)\n",
    "            feature_df[p_name + '_var'] = self.diff_calc(p_dict)\n",
    "        return feature_df"
   ]
  },
  {
   "cell_type": "code",
   "execution_count": 7,
   "metadata": {},
   "outputs": [],
   "source": [
    "def wt_to_at(data, atom_features):\n",
    "    wt_value = data[atom_features].values\n",
    "    at_value = wt_value / np.array([atom_mass[j] for j in atom_features])\n",
    "    sum_num = np.sum(at_value, axis=1).reshape(-1, 1)\n",
    "    at_value = at_value / sum_num\n",
    "    for index, i in enumerate(atom_features):\n",
    "        data.loc[:, i] = at_value[:, index]\n",
    "    return data\n",
    "\n",
    "def G_al2o3(T, al_a):\n",
    "    G0 = 0.2193*(T + 273.15) - 1127.3137\n",
    "    R = 8.314\n",
    "    p = 0.2\n",
    "    return G0 + (R*(T + 273.15)*np.log(1 / al_a**(4/3) / p)) / 1000\n",
    "\n",
    "def Val_eff(data, c=False):\n",
    "    val_eff_num = 0\n",
    "    for i in ion_valence.keys():\n",
    "        if not c:\n",
    "            val_eff_num += (ion_valence[i] - 3)*data[i]\n",
    "        elif c == 'A1':\n",
    "            if i in ['Ni', 'Al', 'Co', 'Cr', 'Mo', 'Re', 'Ru', 'Ti', 'Ta', 'W', 'Hf']: \n",
    "                val_eff_num += (ion_valence[i] - 3)*data[i + '_A1']\n",
    "        elif c == 'L12':\n",
    "            if i in ['Ni', 'Al', 'Co', 'Cr', 'Mo', 'Re', 'Ru', 'Ti', 'Ta', 'W', 'Hf']: \n",
    "                val_eff_num += (ion_valence[i] - 3)*data[i + '_L12']\n",
    "    return val_eff_num\n",
    "\n",
    "def Ni_diffusion(data):\n",
    "    D0_eff = 0\n",
    "    elem = ['Ni', 'Al', 'Co', 'Cr', 'Mo', 'Re', 'Ru', 'Ti', 'Ta', 'W']\n",
    "    for atom in elem:\n",
    "        D0_eff += D0_Ni[atom] * data[atom + '_A1']\n",
    "    Q_eff = q_Ni['Ni']\n",
    "    for atom in elem[1: ]:\n",
    "        Q_eff += q_Ni[atom] * data[atom + '_A1']\n",
    "    D_eff = D0_eff*np.exp(Q_eff*1000 / 8.314 / (data['Temperature'] + 273.15))\n",
    "    return D_eff\n",
    "\n",
    "def Ni3Al_diffusion(data):\n",
    "    D0_eff = 0\n",
    "    elem = ['Ni', 'Al', 'Co', 'Cr', 'Mo', 'Re', 'Ru', 'Ti', 'Ta']\n",
    "    for atom in elem:\n",
    "        D0_eff += D0_Ni3Al[atom] * data[atom + '_L12']\n",
    "    Q_eff = 0\n",
    "    for atom in elem:\n",
    "        Q_eff += q_Ni3Al[atom] * data[atom + '_L12']\n",
    "    D_eff = D0_eff*np.exp(Q_eff*1000 / 8.314 / (data['Temperature'] + 273.15))\n",
    "    return D_eff"
   ]
  },
  {
   "cell_type": "code",
   "execution_count": 8,
   "metadata": {},
   "outputs": [],
   "source": [
    "def computeCorrelation(X, Y):\n",
    "    xBar = np.mean(X)\n",
    "    yBar = np.mean(Y)\n",
    "    SSR = 0\n",
    "    varX = 0\n",
    "    varY = 0\n",
    "    for i in range(0 , len(X)):\n",
    "        diffXXBar = X[i] - xBar\n",
    "        diffYYBar = Y[i] - yBar\n",
    "        SSR += (diffXXBar * diffYYBar)\n",
    "        varX +=  diffXXBar**2\n",
    "        varY += diffYYBar**2\n",
    "    \n",
    "    SST = np.sqrt(varX * varY)\n",
    "    return SSR / SST"
   ]
  },
  {
   "cell_type": "code",
   "execution_count": 9,
   "metadata": {},
   "outputs": [],
   "source": [
    "data = pd.read_csv(path, encoding='gb2312')            \n",
    "data['index'] = range(len(data))\n",
    "data['group'] = data.groupby(composition_features)['index'].transform('max')\n",
    "groups = data['group']\n",
    "data.drop(['index', 'group'], axis=1, inplace=True)"
   ]
  },
  {
   "cell_type": "code",
   "execution_count": 10,
   "metadata": {},
   "outputs": [],
   "source": [
    "features = ['Temperature'] + a_features\n",
    "a_data = data[features]\n",
    "composition_num = len(set(groups))\n",
    "kp_label = np.log(data['k(g2/m4/h)'])\n",
    "gkf = GroupKFold(n_splits=composition_num)"
   ]
  },
  {
   "cell_type": "code",
   "execution_count": 11,
   "metadata": {},
   "outputs": [],
   "source": [
    "# transfer wt. to at.\n",
    "data = wt_to_at(data, composition_features)\n",
    "# cbcv features\n",
    "FE = FeatureEngineer(properties_dict, data)\n",
    "cbfv_features = FE.get_feature()\n",
    "for i in cbfv_features.columns:\n",
    "    a_data[i] = cbfv_features[i]"
   ]
  },
  {
   "cell_type": "code",
   "execution_count": 12,
   "metadata": {},
   "outputs": [],
   "source": [
    "# domain features\n",
    "a_data['Val_eff_c'] = Val_eff(data)\n",
    "a_data['Val_eff_γ'] = Val_eff(data, c='A1')\n",
    "a_data[\"Val_eff_γ'\"] = Val_eff(data, c='L12')\n",
    "a_data['D_Ni'] = Ni_diffusion(data)\n",
    "a_data['D_Ni3Al'] = Ni3Al_diffusion(data)"
   ]
  },
  {
   "cell_type": "code",
   "execution_count": 13,
   "metadata": {},
   "outputs": [
    {
     "data": {
      "image/png": "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",
      "text/plain": [
       "<Figure size 252x252 with 2 Axes>"
      ]
     },
     "metadata": {
      "needs_background": "light"
     },
     "output_type": "display_data"
    },
    {
     "name": "stdout",
     "output_type": "stream",
     "text": [
      "1.7042994141019663\n",
      "1.369392717217172\n",
      "0.8133441184193234\n"
     ]
    }
   ],
   "source": [
    "f = ['Temperature'] + ['Ni_a', 'Al_a', 'Cr_a'] + ['CE_var', \"Val_eff_γ'\", 'i_r_avg', 'PE_avg', 'e_a_con_avg']\n",
    "a_data_f = a_data[f]\n",
    "test_list = []\n",
    "pre_list = []\n",
    "feature_importance = np.zeros((len(a_data_f.columns), composition_num))\n",
    "for fold, (train_id, test_id) in enumerate(gkf.split(a_data_f, kp_label, groups=groups)):\n",
    "    train = a_data_f.values[train_id]\n",
    "    test = a_data_f.values[test_id]\n",
    "    scalar = StandardScaler()\n",
    "    train = scalar.fit_transform(train)\n",
    "    test = scalar.transform(test)\n",
    "    train_label = kp_label[train_id]\n",
    "    test_label = kp_label[test_id]\n",
    "    test_list.append(test_label)\n",
    "    rf = RandomForestRegressor(**param_dict['RF'])\n",
    "    rf.fit(train, train_label)\n",
    "    train_pre = rf.predict(train)\n",
    "    test_pre = rf.predict(test)\n",
    "    feature_importance[:, fold] = rf.feature_importances_\n",
    "    pre_list.append(test_pre)\n",
    "plt.figure(figsize=(3.5, 3.5))\n",
    "plt.scatter(np.concatenate(pre_list, axis=0), np.concatenate(test_list, axis=0), \n",
    "            c='lightskyblue', marker='o', label='RF CB-CV', edgecolors='royalblue')\n",
    "plt.plot(range(-100, 100), range(-100, 100), c='gray')\n",
    "plt.xlim(-9, 6)\n",
    "plt.ylim(-9, 6)\n",
    "plt.xlabel('ln( Predicted $\\mathregular{K_p}$( $\\mathregular{g^2}$/$\\mathregular{m^4}$/h ) )', font)\n",
    "plt.ylabel('ln( Experimental $\\mathregular{K_p}$( $\\mathregular{g^2}$/$\\mathregular{m^4}$/h ) )', font)\n",
    "plt.text(-8, 3.5, s='RMSE: {:.3f}'.format(np.sqrt(mean_squared_error(np.concatenate(test_list, axis=0), np.concatenate(pre_list, axis=0)))))\n",
    "plt.text(-8, 2.5, s='MAE: {:.3f}'.format(mean_absolute_error(np.concatenate(test_list, axis=0), np.concatenate(pre_list, axis=0))))\n",
    "plt.text(-8, 1.5, s='R: {:.3f}'.format(computeCorrelation(np.concatenate(test_list, axis=0), np.concatenate(pre_list, axis=0))))                                           \n",
    "plt.legend()\n",
    "plt.axes([0.66, 0.18, 0.20, 0.20])\n",
    "sns.histplot(np.concatenate(test_list, axis=0) - np.concatenate(pre_list, axis=0), bins=10, kde=True, color='royalblue', alpha=0.7)\n",
    "plt.ylabel('Count', fontdict={'family': 'times new roman', 'size': 6, 'weight': 'bold'})\n",
    "plt.xticks([-3, 0, 3], font={'family': 'times new roman', 'size': 6, 'weight': 'bold'})\n",
    "plt.yticks([0, 5, 10, 15], font={'family': 'times new roman', 'size': 6, 'weight': 'bold'})\n",
    "# plt.savefig('C:/Users/chonglh/Desktop/oxidaton2.0/result/cbfv_rf_result.tif', dpi=330, bbox_inches='tight')\n",
    "plt.show()\n",
    "print(np.sqrt(mean_squared_error(np.concatenate(test_list, axis=0), np.concatenate(pre_list, axis=0))))\n",
    "print(mean_absolute_error(np.concatenate(test_list, axis=0), np.concatenate(pre_list, axis=0)))\n",
    "print(computeCorrelation(np.concatenate(test_list, axis=0), np.concatenate(pre_list, axis=0)))"
   ]
  },
  {
   "cell_type": "code",
   "execution_count": 14,
   "metadata": {},
   "outputs": [],
   "source": [
    "sign_path = 'D:/Oxidation Data/氧化原始数据/Al2O3_tc_data_label.csv'\n",
    "sign_data = pd.read_csv(sign_path, encoding='gb2312')\n",
    "continuous = sign_data['Continuous Al2O3?']\n",
    "data['continuous'] = continuous\n",
    "continuous_kp = np.log(data[data['continuous'] == '1']['k(g2/m4/h)'].tolist())"
   ]
  },
  {
   "cell_type": "code",
   "execution_count": 15,
   "metadata": {},
   "outputs": [
    {
     "data": {
      "image/png": "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",
      "text/plain": [
       "<Figure size 252x252 with 1 Axes>"
      ]
     },
     "metadata": {
      "needs_background": "light"
     },
     "output_type": "display_data"
    },
    {
     "name": "stdout",
     "output_type": "stream",
     "text": [
      "1.7483773273178347\n",
      "1.450428433512476\n",
      "0.8319875681302342\n"
     ]
    }
   ],
   "source": [
    "continuous_id = []\n",
    "for i in continuous_kp.tolist():\n",
    "    continuous_id.append(np.concatenate(test_list, axis=0).tolist().index(i))\n",
    "continuous_pre, continuous_label = np.concatenate(pre_list, axis=0)[continuous_id], np.concatenate(test_list, axis=0)[continuous_id]\n",
    "plt.figure(figsize=(3.5, 3.5))\n",
    "plt.grid(linestyle='--', alpha=0.5, zorder=0)\n",
    "plt.plot(range(0, 21000, 1), range(0, 21000, 1), '--', c='gray')\n",
    "plt.loglog(np.exp(continuous_pre), np.exp(continuous_label), '.',\n",
    "            c='lightgreen', marker='o', label='Continuous Alumina-Forming \\nRF CBCV With Data Augment', markeredgecolor='green', zorder=2)\n",
    "plt.xlim(10**(-4), 500)\n",
    "plt.ylim(10**(-4), 500)\n",
    "plt.xlabel('Predicted $\\mathregular{K_p}$( $\\mathregular{g^2}$/$\\mathregular{m^4}$/h )', {'family': 'Times New Roman', 'weight': 'bold', 'size': 9})\n",
    "plt.ylabel('Experimental $\\mathregular{K_p}$( $\\mathregular{g^2}$/$\\mathregular{m^4}$/h )', {'family': 'Times New Roman', 'weight': 'bold', 'size': 9})\n",
    "plt.text(0.0009, 25, s='R: {:.3f}'.format(computeCorrelation(continuous_label, continuous_pre)), fontdict={'family': 'Times New Roman', 'weight': 'bold', 'size': 9})\n",
    "plt.legend(loc=2, frameon=False, labelspacing=2)\n",
    "# plt.savefig('C:/Users/chonglh/Desktop/cbfv_continuous_augment.tif', dpi=330, bbox_inches='tight')\n",
    "plt.show()\n",
    "print(np.sqrt(mean_squared_error(continuous_label, continuous_pre)))\n",
    "print(mean_absolute_error(continuous_label, continuous_pre))\n",
    "print(computeCorrelation(continuous_label, continuous_pre))"
   ]
  },
  {
   "cell_type": "code",
   "execution_count": 16,
   "metadata": {},
   "outputs": [],
   "source": [
    "continuous_data = data[data['continuous'] == '1']\n",
    "continuous_data['index'] = range(len(continuous_data))\n",
    "continuous_data['group'] = continuous_data.groupby(composition_features)['index'].transform('max')\n",
    "groups = continuous_data['group']\n",
    "continuous_data.drop(['index', 'group', 'continuous'], axis=1, inplace=True)"
   ]
  },
  {
   "cell_type": "code",
   "execution_count": 17,
   "metadata": {},
   "outputs": [],
   "source": [
    "composition_num = len(set(groups))\n",
    "kp_label = np.log(continuous_data['k(g2/m4/h)'].values)\n",
    "gkf = GroupKFold(n_splits=composition_num)"
   ]
  },
  {
   "cell_type": "code",
   "execution_count": 18,
   "metadata": {},
   "outputs": [
    {
     "data": {
      "image/png": "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",
      "text/plain": [
       "<Figure size 252x252 with 1 Axes>"
      ]
     },
     "metadata": {
      "needs_background": "light"
     },
     "output_type": "display_data"
    },
    {
     "name": "stdout",
     "output_type": "stream",
     "text": [
      "1.8133565838289056\n",
      "1.5001602592100842\n",
      "0.8104068098511613\n"
     ]
    }
   ],
   "source": [
    "f = ['Temperature'] + ['Ni_a', 'Al_a', 'Cr_a'] + ['CE_var', \"Val_eff_γ'\", 'i_r_avg', 'PE_avg', 'e_a_con_avg']\n",
    "a_data['continuous'] = continuous\n",
    "continuous_a_data = a_data[a_data['continuous'] == '1']\n",
    "a_data_f = continuous_a_data[f]\n",
    "test_list = []\n",
    "pre_list = []\n",
    "feature_importance = np.zeros((len(a_data_f.columns), composition_num))\n",
    "for fold, (train_id, test_id) in enumerate(gkf.split(a_data_f, kp_label, groups=groups)):\n",
    "    train = a_data_f.values[train_id]\n",
    "    test = a_data_f.values[test_id]\n",
    "    scalar = StandardScaler()\n",
    "    train = scalar.fit_transform(train)\n",
    "    test = scalar.transform(test)\n",
    "    train_label = kp_label[train_id]\n",
    "    test_label = kp_label[test_id]\n",
    "    test_list.append(test_label)\n",
    "    rf = RandomForestRegressor(**param_dict['RF'])\n",
    "    rf.fit(train, train_label)\n",
    "    train_pre = rf.predict(train)\n",
    "    test_pre = rf.predict(test)\n",
    "    feature_importance[:, fold] = rf.feature_importances_\n",
    "    pre_list.append(test_pre)\n",
    "plt.figure(figsize=(3.5, 3.5))\n",
    "plt.grid(linestyle='--', alpha=0.5, zorder=0)\n",
    "plt.plot(range(0, 21000, 1), range(0, 21000, 1), '--', c='gray')\n",
    "plt.loglog(np.exp(np.concatenate(pre_list, axis=0)), np.exp(np.concatenate(test_list, axis=0)), '.', \n",
    "            c='lightgreen', marker='o', label='Continuous Alumina-Forming\\nRF CBCV No Data Augment', markeredgecolor='green')\n",
    "plt.xlim(10**(-4), 500)\n",
    "plt.ylim(10**(-4), 500)\n",
    "plt.xlabel('Predicted $\\mathregular{K_p}$( $\\mathregular{g^2}$/$\\mathregular{m^4}$/h )', {'family': 'Times New Roman', 'weight': 'bold', 'size': 9})\n",
    "plt.ylabel('Experimental $\\mathregular{K_p}$( $\\mathregular{g^2}$/$\\mathregular{m^4}$/h )', {'family': 'Times New Roman', 'weight': 'bold', 'size': 9})\n",
    "plt.text(0.0009, 25, s='R: {:.3f}'.format(computeCorrelation(np.concatenate(test_list, axis=0), np.concatenate(pre_list, axis=0))), fontdict={'family': 'Times New Roman', 'weight': 'bold', 'size': 9})\n",
    "plt.legend(loc=2, frameon=False, labelspacing=2)\n",
    "# plt.savefig('C:/Users/chonglh/Desktop/cbfv_continuous.tif', dpi=330, bbox_inches='tight')\n",
    "plt.show()\n",
    "print(np.sqrt(mean_squared_error(np.concatenate(test_list, axis=0), np.concatenate(pre_list, axis=0))))\n",
    "print(mean_absolute_error(np.concatenate(test_list, axis=0), np.concatenate(pre_list, axis=0)))\n",
    "print(computeCorrelation(np.concatenate(test_list, axis=0), np.concatenate(pre_list, axis=0)))"
   ]
  }
 ],
 "metadata": {
  "kernelspec": {
   "display_name": "Python 3",
   "language": "python",
   "name": "python3"
  },
  "language_info": {
   "codemirror_mode": {
    "name": "ipython",
    "version": 3
   },
   "file_extension": ".py",
   "mimetype": "text/x-python",
   "name": "python",
   "nbconvert_exporter": "python",
   "pygments_lexer": "ipython3",
   "version": "3.9.1"
  },
  "orig_nbformat": 4
 },
 "nbformat": 4,
 "nbformat_minor": 2
}
